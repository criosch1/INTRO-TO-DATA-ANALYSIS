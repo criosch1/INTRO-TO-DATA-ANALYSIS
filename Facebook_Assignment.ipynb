{
 "cells": [
  {
   "cell_type": "markdown",
   "metadata": {},
   "source": [
    "## FACEBOOK ASSIGNMENT"
   ]
  },
  {
   "cell_type": "code",
   "execution_count": null,
   "metadata": {},
   "outputs": [],
   "source": [
    "%matplotlib notebook\n",
    "import pandas as pd\n",
    "import numpy as np\n",
    "import statsmodels.formula.api as smf\n",
    "import matplotlib.pyplot as plt\n",
    "import seaborn as sns\n",
    "import matplotlib.colors as colors\n",
    "\n",
    "facebook = pd.read_csv('DATA/dataset_Facebook.csv', delimiter=\";\")\n",
    "\n",
    "plt.style.use('fivethirtyeight')\n",
    "sns.set_style(\"whitegrid\")\n",
    "\n",
    "#Use this to see all the rows  \n",
    "#pd.set_option('display.max_columns', None)"
   ]
  },
  {
   "cell_type": "markdown",
   "metadata": {},
   "source": [
    "## Searching through the data"
   ]
  },
  {
   "cell_type": "code",
   "execution_count": null,
   "metadata": {},
   "outputs": [],
   "source": [
    "#facebook.info()\n",
    "#facebook.head()\n",
    "#facebook.describe()\n",
    "#facebook.columns\n",
    "#facebook['Type'].unique()\n",
    "#facebook['Post Month'].unique()\n",
    "#facebook['Post Weekday'].unique()\n",
    "#facebook['Post Hour'].unique"
   ]
  },
  {
   "cell_type": "markdown",
   "metadata": {
    "scrolled": true
   },
   "source": [
    "# # Understanding the Columns"
   ]
  },
  {
   "cell_type": "code",
   "execution_count": null,
   "metadata": {},
   "outputs": [],
   "source": [
    "#Page total likes = the total amount of links, dtype=int64\n",
    "#Type = the type of post (picture, status, Link, Video), dtype=object\n",
    "#Category = [2,3,1], dtype=int64\n",
    "#Post Month = month 1-12, dtype=int64 \n",
    "#Post Weekday = weekday 1-7, dtype=int64\n",
    "#Post Hour = hour 1-24, dtype=int64\n",
    "#Paid = if post was made from paid account, 0=False,1=True, dtype=float64\n",
    "#Lifetime Post Total Reach = The number of people you saw your page post, unique users, dtype=int64\n",
    "#Lifetime Post Total Impressions = the total number of times users saw your post or story, dtype=int64\n",
    "#Lifetime Engaged Users = The number of people who clicked anywhere in your posts. ( Unique Users), dtype=int64\n",
    "#Lifetime Post Consumers = The number of people who clicked anywhere in your post. \n",
    "                           #Clicks generating stories are included in “Other Clicks.” (Unique Users)\n",
    "#Lifetime Post Consumptions = The number of clicks anywhere in your post. Clicks generating stories are included \n",
    "                           #in “Other Clicks.”\n",
    "#Lifetime Post Impressions by people who have liked your Page = the total number of times users saw your post or story\n",
    "                                                                # by people who have liked your page\n",
    "#Lifetime Post reach by people who like your Page = The number of people you saw your page post\n",
    "                                                                # by people who have liked your page\n",
    "#Lifetime People who have liked your Page and engaged with your post = Lifetime people who have liked your page and engaged with your post.\n",
    "                                                                # by people who have liked your page\n",
    "#comment = number of comments for post\n",
    "#like = number of likes for post\n",
    "#share = number of shares for post\n",
    "#Total Interactions = combination of comment, likes, shares"
   ]
  },
  {
   "cell_type": "markdown",
   "metadata": {},
   "source": [
    "# # Graphing Data in matplotlib and seaborn"
   ]
  },
  {
   "cell_type": "code",
   "execution_count": null,
   "metadata": {
    "scrolled": true
   },
   "outputs": [],
   "source": [
    "#using a histogram to see the distrubution of data \n",
    "#matplotlib like histogram \n",
    "mean=facebook['like'].mean()\n",
    "median=facebook['like'].median()\n",
    "\n",
    "facebook.hist(column='like', bins=50,edgecolor='black')\n",
    "\n",
    "plt.xlim(0,2000)\n",
    "\n",
    "plt.title('Histogram of Likes',size=14,fontweight='bold')\n",
    "plt.xlabel('# of Likes',size=12,fontweight='semibold')\n",
    "plt.ylabel('Frequency',size=12,fontweight='semibold')\n",
    "\n",
    "plt.xticks(np.arange(0, 2000, 250))\n",
    "\n",
    "plt.axvline(mean,color='red',label='mean',linewidth=2)\n",
    "plt.axvline(median,color='black',label='median',linewidth=2)\n",
    "\n",
    "plt.legend()\n",
    "\n",
    "plt.tight_layout()\n",
    "# plt.axvline(mean,0,1, color='red') \n",
    "# plt.axvline(median,0,1, color='black')"
   ]
  },
  {
   "cell_type": "code",
   "execution_count": null,
   "metadata": {},
   "outputs": [],
   "source": [
    "#seaborn like histogram \n",
    "sns.set_style(\"whitegrid\")\n",
    "mean = facebook['like'].mean()\n",
    "median = facebook['like'].median()\n",
    "\n",
    "x = facebook['like'].values\n",
    "sns.distplot(x)\n",
    "\n",
    "plt.xlim(0,2500)\n",
    "\n",
    "plt.title('Histogram of Likes',size=14,fontweight='bold')\n",
    "plt.xlabel('# of Likes',size=12,fontweight='semibold')\n",
    "plt.ylabel('Frequency',size=12,fontweight='semibold')\n",
    "\n",
    "plt.xticks(np.arange(0, 2500, 250))\n",
    "\n",
    "plt.axvline(mean,color='red',label='mean',linewidth=2)\n",
    "plt.axvline(median,color='black',label='median',linewidth=2)\n",
    "\n",
    "plt.legend()\n",
    "\n",
    "plt.tight_layout()\n",
    "\n",
    "# plt.axvline(mean,0, 1, color = 'red')\n",
    "# plt.axvline(median,0,1, color = 'black')"
   ]
  },
  {
   "cell_type": "code",
   "execution_count": null,
   "metadata": {
    "scrolled": true
   },
   "outputs": [],
   "source": [
    "#matplotlib comment histogram\n",
    "mean=facebook['comment'].mean()\n",
    "median=facebook['comment'].median()\n",
    "\n",
    "\n",
    "facebook.hist(column='comment', bins=200,edgecolor='black')\n",
    "\n",
    "plt.xlim(0,60)\n",
    "\n",
    "plt.title('Histogram of Comments',size=14,fontweight='bold')\n",
    "plt.xlabel('# of Comments',size=12,fontweight='semibold')\n",
    "plt.ylabel('Frequency',size=12,fontweight='semibold')\n",
    "\n",
    "plt.xticks(np.arange(0, 60, 5))\n",
    "\n",
    "plt.axvline(mean,color='red',label='mean',linewidth=2)\n",
    "plt.axvline(median,color='black',label='median',linewidth=2)\n",
    "\n",
    "plt.legend()\n",
    "plt.tight_layout()\n",
    "\n",
    "# plt.axvline(mean,0,1, color='red') \n",
    "# plt.axvline(median,0,1, color='black')"
   ]
  },
  {
   "cell_type": "code",
   "execution_count": null,
   "metadata": {},
   "outputs": [],
   "source": [
    "#seaborn comment histogram\n",
    "mean = facebook['comment'].mean()\n",
    "median = facebook['comment'].median()\n",
    "\n",
    "x = facebook['comment'].values\n",
    "sns.distplot(x)\n",
    "\n",
    "plt.xlim(0,100)\n",
    "\n",
    "plt.title('Histogram of Comments',size=14,fontweight='bold')\n",
    "plt.xlabel('# of Likes',size=12,fontweight='semibold')\n",
    "plt.ylabel('Frequency',size=12,fontweight='semibold')\n",
    "\n",
    "plt.xticks(np.arange(0, 100, 5))\n",
    "\n",
    "plt.axvline(mean,label='mean',color='red',linewidth=2)\n",
    "plt.axvline(median,label='median',color='black',linewidth=2)\n",
    "\n",
    "plt.legend()\n",
    "plt.tight_layout()"
   ]
  },
  {
   "cell_type": "code",
   "execution_count": null,
   "metadata": {
    "scrolled": true
   },
   "outputs": [],
   "source": [
    "#matplotlib share histogram\n",
    "mean=facebook['share'].mean()\n",
    "median=facebook['share'].median()\n",
    "\n",
    "facebook.hist(column='share', bins=100,edgecolor='black')\n",
    "\n",
    "plt.xlim(0,150)\n",
    "\n",
    "plt.title('Histogram of Shares',size=14,fontweight='bold')\n",
    "plt.xlabel('# of Shares',size=12,fontweight='semibold')\n",
    "plt.ylabel('Frequency',size=12,fontweight='semibold')\n",
    "\n",
    "plt.xticks(np.arange(0, 150, 25))\n",
    "\n",
    "plt.axvline(mean,label='mean',color='red',linewidth=2)\n",
    "plt.axvline(median,label='median',color='black',linewidth=2)\n",
    "\n",
    "plt.legend()\n",
    "plt.tight_layout()"
   ]
  },
  {
   "cell_type": "code",
   "execution_count": null,
   "metadata": {},
   "outputs": [],
   "source": [
    "#seaborn share histogram\n",
    "mean = facebook['share'].mean()\n",
    "median = facebook['share'].median()\n",
    "\n",
    "x = facebook['share'].values\n",
    "sns.distplot(x)\n",
    "\n",
    "plt.xlim(0,250)\n",
    "\n",
    "plt.title('Histogram of Shares',size=14,fontweight='bold')\n",
    "plt.xlabel('# of Shares',size=12,fontweight='semibold')\n",
    "plt.ylabel('Frequency',size=12,fontweight='semibold')\n",
    "\n",
    "plt.xticks(np.arange(0, 250, 50))\n",
    "\n",
    "plt.axvline(mean,label='mean',color='red',linewidth=2)\n",
    "plt.axvline(median,label='median',color='black',linewidth=2)\n",
    "\n",
    "plt.legend()\n",
    "plt.tight_layout()"
   ]
  },
  {
   "cell_type": "code",
   "execution_count": null,
   "metadata": {
    "scrolled": true
   },
   "outputs": [],
   "source": [
    "#matplotlib Total Interactions histogram\n",
    "mean=facebook['Total Interactions'].mean()\n",
    "median=facebook['Total Interactions'].median()\n",
    "\n",
    "facebook.hist(column='Total Interactions', bins=100,edgecolor='black')\n",
    "\n",
    "plt.xlim(0,2000)\n",
    "\n",
    "plt.title('Histogram of Total Interactions',size=14,fontweight='bold')\n",
    "plt.xlabel('# of Total Interactions',size=12,fontweight='semibold')\n",
    "plt.ylabel('Frequency',size=12,fontweight='semibold')\n",
    "\n",
    "plt.xticks(np.arange(0, 2000, 500))\n",
    "\n",
    "plt.axvline(mean,label='mean',color='red',linewidth=2)\n",
    "plt.axvline(median,label='median',color='black',linewidth=2)\n",
    "\n",
    "plt.legend()\n",
    "plt.tight_layout()"
   ]
  },
  {
   "cell_type": "code",
   "execution_count": null,
   "metadata": {
    "scrolled": true
   },
   "outputs": [],
   "source": [
    "#seaborn Total Interactions histogram\n",
    "sns.set_style(\"whitegrid\")\n",
    "cmap = colors.LinearSegmentedColormap.from_list(\"\",[\"red\",\"yellow\",\"green\"])\n",
    "\n",
    "mean = facebook['Total Interactions'].mean()\n",
    "median = facebook['Total Interactions'].median()\n",
    "\n",
    "x = facebook['Total Interactions'].values\n",
    "sns.distplot(x)\n",
    "\n",
    "plt.xlim(0,2500)\n",
    "\n",
    "plt.title('Histogram of Total Interactions',size=14,fontweight='bold')\n",
    "plt.xlabel('# of Shares',size=12,fontweight='semibold')\n",
    "plt.ylabel('Frequency',size=12,fontweight='semibold',color=cmap)\n",
    "plt.xticks(np.arange(0, 2500, 500))\n",
    "\n"
   ]
  },
  {
   "cell_type": "code",
   "execution_count": null,
   "metadata": {},
   "outputs": [],
   "source": []
  },
  {
   "cell_type": "code",
   "execution_count": null,
   "metadata": {},
   "outputs": [],
   "source": []
  }
 ],
 "metadata": {
  "kernelspec": {
   "display_name": "Python 3",
   "language": "python",
   "name": "python3"
  },
  "language_info": {
   "codemirror_mode": {
    "name": "ipython",
    "version": 3
   },
   "file_extension": ".py",
   "mimetype": "text/x-python",
   "name": "python",
   "nbconvert_exporter": "python",
   "pygments_lexer": "ipython3",
   "version": "3.7.4"
  }
 },
 "nbformat": 4,
 "nbformat_minor": 4
}
