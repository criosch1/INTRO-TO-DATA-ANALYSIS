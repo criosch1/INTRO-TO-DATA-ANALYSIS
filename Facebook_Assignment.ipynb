{
 "cells": [
  {
   "cell_type": "markdown",
   "metadata": {},
   "source": [
    "## FACEBOOK ASSIGNMENT"
   ]
  },
  {
   "cell_type": "code",
   "execution_count": 7,
   "metadata": {},
   "outputs": [],
   "source": [
    "import pandas as pd\n",
    "import numpy as np\n",
    "import statsmodels.formula.api as smf\n",
    "import matplotlib.pyplot as plt\n",
    "import seaborn as sns\n",
    "\n",
    "facebook = pd.read_csv('DATA/dataset_Facebook.csv', delimiter=\";\")\n",
    "\n",
    "#Use this to see all the rows  \n",
    "#pd.set_option('display.max_columns', None)"
   ]
  },
  {
   "cell_type": "markdown",
   "metadata": {},
   "source": [
    "## Searching through the data"
   ]
  },
  {
   "cell_type": "code",
   "execution_count": null,
   "metadata": {},
   "outputs": [],
   "source": [
    "#facebook.info()\n",
    "#facebook.head()\n",
    "#facebook.describe()\n",
    "#facebook.columns\n",
    "#facebook['Type'].unique()\n",
    "#facebook['Post Month'].unique()\n",
    "#facebook['Post Weekday'].unique()\n",
    "#facebook['Post Hour'].unique"
   ]
  },
  {
   "cell_type": "markdown",
   "metadata": {
    "scrolled": true
   },
   "source": [
    "# # Understanding the Columns"
   ]
  },
  {
   "cell_type": "code",
   "execution_count": null,
   "metadata": {},
   "outputs": [],
   "source": [
    "#Page total likes = the total amount of links, dtype=int64\n",
    "#Type = the type of post (picture, status, Link, Video), dtype=object\n",
    "#Category = [2,3,1], dtype=int64\n",
    "#Post Month = month 1-12, dtype=int64 \n",
    "#Post Weekday = weekday 1-7, dtype=int64\n",
    "#Post Hour = hour 1-24, dtype=int64\n",
    "#Paid = if post was made from paid account, 0=False,1=True, dtype=float64\n",
    "#Lifetime Post Total Reach = The number of people you saw your page post, unique users, dtype=int64\n",
    "#Lifetime Post Total Impressions = the total number of times users saw your post or story, dtype=int64\n",
    "#Lifetime Engaged Users = The number of people who clicked anywhere in your posts. ( Unique Users), dtype=int64\n",
    "#Lifetime Post Consumers = The number of people who clicked anywhere in your post. \n",
    "                           #Clicks generating stories are included in “Other Clicks.” (Unique Users)\n",
    "#Lifetime Post Consumptions = The number of clicks anywhere in your post. Clicks generating stories are included \n",
    "                           #in “Other Clicks.”\n",
    "#Lifetime Post Impressions by people who have liked your Page = the total number of times users saw your post or story\n",
    "                                                                # by people who have liked your page\n",
    "#Lifetime Post reach by people who like your Page = The number of people you saw your page post\n",
    "                                                                # by people who have liked your page\n",
    "#Lifetime People who have liked your Page and engaged with your post = Lifetime people who have liked your page and engaged with your post.\n",
    "                                                                # by people who have liked your page\n",
    "#comment = number of comments for post\n",
    "#like = number of likes for post\n",
    "#share = number of shares for post\n",
    "#Total Interactions = combination of comment, likes, shares"
   ]
  },
  {
   "cell_type": "markdown",
   "metadata": {},
   "source": [
    "# # Graphing Data in matplotlib and seaborn"
   ]
  },
  {
   "cell_type": "code",
   "execution_count": null,
   "metadata": {},
   "outputs": [],
   "source": [
    "#matplotlib like histogram \n",
    "mean=facebook['like'].mean()\n",
    "median=facebook['like'].median()\n",
    "\n",
    "facebook.hist(column='like', bins=100)\n",
    "plt.xlim(0,2500)\n",
    "plt.title('Histogram of Likes',size=14,fontweight='bold')\n",
    "plt.xlabel('# of Likes',size=12,fontweight='semibold')\n",
    "plt.ylabel('Frequency',size=12,fontweight='semibold')\n",
    "plt.xticks(np.arange(0, 2500, 250))\n",
    "plt.axvline(mean,0,1, color='red') \n",
    "plt.axvline(median,0,1, color='black')"
   ]
  },
  {
   "cell_type": "code",
   "execution_count": null,
   "metadata": {},
   "outputs": [],
   "source": [
    "#seaborn like histogram \n",
    "sns.set_style(\"whitegrid\")\n",
    "mean = facebook['like'].mean()\n",
    "median = facebook['like'].median()\n",
    "\n",
    "x = facebook['like'].values\n",
    "sns.distplot(x)\n",
    "\n",
    "plt.axvline(mean,0, 1, color = 'red')\n",
    "plt.axvline(median,0,1, color = 'black')\n",
    "plt.xlim(0,2500)\n",
    "\n",
    "plt.title('Histogram of Likes',size=14,fontweight='bold')\n",
    "plt.xlabel('# of Likes',size=12,fontweight='semibold')\n",
    "plt.ylabel('Frequency',size=12,fontweight='semibold')\n",
    "plt.xticks(np.arange(0, 2500, 250))\n"
   ]
  },
  {
   "cell_type": "code",
   "execution_count": null,
   "metadata": {},
   "outputs": [],
   "source": [
    "#matplotlib comment histogram\n",
    "mean=facebook['comment'].mean()\n",
    "median=facebook['comment'].median()\n",
    "\n",
    "facebook.hist(column='comment', bins=100)\n",
    "plt.xlim(0,100)\n",
    "plt.title('Histogram of Comments',size=14,fontweight='bold')\n",
    "plt.xlabel('# of Comments',size=12,fontweight='semibold')\n",
    "plt.ylabel('Frequency',size=12,fontweight='semibold')\n",
    "plt.xticks(np.arange(0, 100, 5))\n",
    "\n",
    "plt.axvline(mean,0,1, color='red') \n",
    "plt.axvline(median,0,1, color='black')"
   ]
  },
  {
   "cell_type": "code",
   "execution_count": null,
   "metadata": {},
   "outputs": [],
   "source": [
    "#seaborn comment histogram\n",
    "sns.set_style(\"whitegrid\")\n",
    "mean = facebook['comment'].mean()\n",
    "median = facebook['comment'].median()\n",
    "\n",
    "x = facebook['comment'].values\n",
    "sns.distplot(x)\n",
    "\n",
    "plt.axvline(mean,0, 1, color = 'red')\n",
    "plt.axvline(median,0,1, color = 'black')\n",
    "plt.xlim(0,100)\n",
    "\n",
    "plt.title('Histogram of Likes',size=14,fontweight='bold')\n",
    "plt.xlabel('# of Likes',size=12,fontweight='semibold')\n",
    "plt.ylabel('Frequency',size=12,fontweight='semibold')\n",
    "plt.xticks(np.arange(0, 100, 5))"
   ]
  },
  {
   "cell_type": "code",
   "execution_count": 6,
   "metadata": {},
   "outputs": [
    {
     "data": {
      "text/plain": [
       "<matplotlib.lines.Line2D at 0x1b8308bb148>"
      ]
     },
     "execution_count": 6,
     "metadata": {},
     "output_type": "execute_result"
    },
    {
     "data": {
      "image/png": "[encoded data removed]",
      "text/plain": [
       "<Figure size 432x288 with 1 Axes>"
      ]
     },
     "metadata": {},
     "output_type": "display_data"
    }
   ],
   "source": [
    "#matplotlib share histogram\n",
    "mean=facebook['share'].mean()\n",
    "median=facebook['share'].median()\n",
    "\n",
    "facebook.hist(column='share', bins=100)\n",
    "plt.xlim(0,100)\n",
    "plt.title('Histogram of Shares',size=14,fontweight='bold')\n",
    "plt.xlabel('# of Shares',size=12,fontweight='semibold')\n",
    "plt.ylabel('Frequency',size=12,fontweight='semibold')\n",
    "plt.xticks(np.arange(0, 100, 5))\n",
    "\n",
    "plt.axvline(mean,0,1, color='red') \n",
    "plt.axvline(median,0,1, color='black')\n"
   ]
  },
  {
   "cell_type": "code",
   "execution_count": 5,
   "metadata": {},
   "outputs": [
    {
     "data": {
      "text/plain": [
       "([<matplotlib.axis.XTick at 0x1b83046f7c8>,\n",
       "  <matplotlib.axis.XTick at 0x1b8306459c8>,\n",
       "  <matplotlib.axis.XTick at 0x1b830645588>,\n",
       "  <matplotlib.axis.XTick at 0x1b8306fc948>,\n",
       "  <matplotlib.axis.XTick at 0x1b830702248>,\n",
       "  <matplotlib.axis.XTick at 0x1b830702a48>,\n",
       "  <matplotlib.axis.XTick at 0x1b830706408>,\n",
       "  <matplotlib.axis.XTick at 0x1b830706d48>,\n",
       "  <matplotlib.axis.XTick at 0x1b83070a6c8>,\n",
       "  <matplotlib.axis.XTick at 0x1b83070e0c8>,\n",
       "  <matplotlib.axis.XTick at 0x1b83070e948>,\n",
       "  <matplotlib.axis.XTick at 0x1b830714108>,\n",
       "  <matplotlib.axis.XTick at 0x1b830706c08>,\n",
       "  <matplotlib.axis.XTick at 0x1b830714c48>,\n",
       "  <matplotlib.axis.XTick at 0x1b830718288>,\n",
       "  <matplotlib.axis.XTick at 0x1b830718c48>,\n",
       "  <matplotlib.axis.XTick at 0x1b830719808>,\n",
       "  <matplotlib.axis.XTick at 0x1b83071e148>,\n",
       "  <matplotlib.axis.XTick at 0x1b83071ee88>,\n",
       "  <matplotlib.axis.XTick at 0x1b830721a08>],\n",
       " <a list of 20 Text xticklabel objects>)"
      ]
     },
     "execution_count": 5,
     "metadata": {},
     "output_type": "execute_result"
    },
    {
     "data": {
      "image/png": "[encoded data removed]",
      "text/plain": [
       "<Figure size 432x288 with 1 Axes>"
      ]
     },
     "metadata": {},
     "output_type": "display_data"
    }
   ],
   "source": [
    "#seaborn comment histogram\n",
    "sns.set_style(\"whitegrid\")\n",
    "mean = facebook['share'].mean()\n",
    "median = facebook['share'].median()\n",
    "\n",
    "x = facebook['share'].values\n",
    "sns.distplot(x)\n",
    "\n",
    "plt.axvline(mean,0, 1, color = 'red')\n",
    "plt.axvline(median,0,1, color = 'black')\n",
    "plt.xlim(0,100)\n",
    "\n",
    "plt.title('Histogram of Shares',size=14,fontweight='bold')\n",
    "plt.xlabel('# of Shares',size=12,fontweight='semibold')\n",
    "plt.ylabel('Frequency',size=12,fontweight='semibold')\n",
    "plt.xticks(np.arange(0, 100, 5))"
   ]
  },
  {
   "cell_type": "code",
   "execution_count": null,
   "metadata": {},
   "outputs": [],
   "source": []
  },
  {
   "cell_type": "code",
   "execution_count": null,
   "metadata": {},
   "outputs": [],
   "source": []
  }
 ],
 "metadata": {
  "kernelspec": {
   "display_name": "Python 3",
   "language": "python",
   "name": "python3"
  },
  "language_info": {
   "codemirror_mode": {
    "name": "ipython",
    "version": 3
   },
   "file_extension": ".py",
   "mimetype": "text/x-python",
   "name": "python",
   "nbconvert_exporter": "python",
   "pygments_lexer": "ipython3",
   "version": "3.7.4"
  }
 },
 "nbformat": 4,
 "nbformat_minor": 4
}
